{
 "cells": [
  {
   "cell_type": "markdown",
   "metadata": {},
   "source": [
    "# 1. GP2 - Extracting LRRK2 G2019S carriers from the AJ population"
   ]
  },
  {
   "cell_type": "markdown",
   "metadata": {},
   "source": [
    "### Description\n",
    "**Project Title:** The age at onset of LRRK2 p.G2019S Parkinson's disease across ancestries and countries of origin\n",
    "\n",
    "**Version:** Python 3.10, R 4.4.2    \n",
    "\n",
    "**Last Updtated:** 20-MAR-2025\n",
    "\n",
    "### Notebook Overview\n",
    "Extracting the G2019S SNP (i.e., chr12:40340400,  rs34637584) from the AJ PLINK files.\n",
    "\n",
    "---\n",
    "**Note:** This notebook is for the Ashkenazi Jewish (AJ) ancestry group, to apply to other ancestry groups simply assign the {ANCESTRY} variable from \"AJ\" to the desired one from the following ancestries:\n",
    "\n",
    "* African Admixed (AAC)\n",
    "* African (AFR)\n",
    "* Ashkenazi Jewish (AJ)\n",
    "* American Admixed (AMR)\n",
    "* Central Asian (CAS)\n",
    "* East Asian (EAS)\n",
    "* European (EUR)\n",
    "* Middle Eastern (MDE)\n",
    "* South Asian (SAS)\n",
    "\n",
    "### Table of Contents:\n",
    "\n",
    "1) [Getting started](#getting-started)\n",
    "2) [GP2 population: AJ](#gp2-population-aj)\n"
   ]
  },
  {
   "cell_type": "markdown",
   "metadata": {},
   "source": [
    "## 1. Getting Started <a id=\"getting-started\"></a>\n",
    "\n",
    "### 1.1. Load the Python libraries"
   ]
  },
  {
   "cell_type": "code",
   "execution_count": 1,
   "metadata": {
    "code_folding": []
   },
   "outputs": [],
   "source": [
    "# Use the os package to interact with the environment\n",
    "import os\n",
    "import sys\n",
    "\n",
    "# Bring in Pandas for Dataframe functionality\n",
    "import pandas as pd\n",
    "from functools import reduce\n",
    "\n",
    "# Bring some visualization functionality \n",
    "import seaborn as sns\n",
    "\n",
    "# numpy for basics\n",
    "import numpy as np\n",
    "\n",
    "# Use StringIO for working with file contents\n",
    "from io import StringIO\n",
    "\n",
    "# Enable IPython to display matplotlib graphs\n",
    "import matplotlib.pyplot as plt\n",
    "%matplotlib inline\n",
    "\n",
    "# Enable interaction with the FireCloud API\n",
    "from firecloud import api as fapi\n",
    "\n",
    "# Import the iPython HTML rendering for displaying links to Google Cloud Console\n",
    "#from IPython.core.display import display, HTML\n",
    "\n",
    "# Import the iPython HTML rendering for displaying links to Google Cloud Console\n",
    "from IPython.display import display, HTML\n",
    "\n",
    "# Import urllib modules for building URLs to Google Cloud Console\n",
    "import urllib.parse\n",
    "\n",
    "# BigQuery for querying data\n",
    "from google.cloud import bigquery"
   ]
  },
  {
   "cell_type": "markdown",
   "metadata": {},
   "source": [
    "### 1.2. Initialize work environment variables"
   ]
  },
  {
   "cell_type": "markdown",
   "metadata": {},
   "source": [
    "#### Install Plink"
   ]
  },
  {
   "cell_type": "code",
   "execution_count": 31,
   "metadata": {},
   "outputs": [],
   "source": [
    "# Utility routine for printing a shell command before executing it\n",
    "def shell_do(command):\n",
    "    print(f'Executing: {command}', file=sys.stderr)\n",
    "    !$command\n",
    "    \n",
    "def shell_return(command):\n",
    "    print(f'Executing: {command}', file=sys.stderr)\n",
    "    output = !$command\n",
    "    return '\\n'.join(output)\n",
    "\n",
    "# Utility routine for printing a query before executing it\n",
    "def bq_query(query):\n",
    "    print(f'Executing: {query}', file=sys.stderr)\n",
    "    return pd.read_gbq(query, project_id=BILLING_PROJECT_ID, dialect='standard')\n",
    "\n",
    "# Utility routine for display a message and a link\n",
    "def display_html_link(description, link_text, url):\n",
    "    html = f'''\n",
    "    <p>\n",
    "    </p>\n",
    "    <p>\n",
    "    {description}\n",
    "    <a target=_blank href=\"{url}\">{link_text}</a>.\n",
    "    </p>\n",
    "    '''\n",
    "\n",
    "    display(HTML(html))\n",
    "\n",
    "# Utility routines for reading files from Google Cloud Storage\n",
    "def gcs_read_file(path):\n",
    "    \"\"\"Return the contents of a file in GCS\"\"\"\n",
    "    contents = !gsutil -u {BILLING_PROJECT_ID} cat {path}\n",
    "    return '\\n'.join(contents)\n",
    "    \n",
    "def gcs_read_csv(path, sep=None):\n",
    "    \"\"\"Return a DataFrame from the contents of a delimited file in GCS\"\"\"\n",
    "    return pd.read_csv(StringIO(gcs_read_file(path)), sep=sep, engine='python')\n",
    "\n",
    "# Utility routine for displaying a message and link to Cloud Console\n",
    "def link_to_cloud_console_gcs(description, link_text, gcs_path):\n",
    "    url = '{}?{}'.format(\n",
    "        os.path.join('https://console.cloud.google.com/storage/browser',\n",
    "                     gcs_path.replace(\"gs://\",\"\")),\n",
    "        urllib.parse.urlencode({'userProject': BILLING_PROJECT_ID}))\n",
    "\n",
    "    display_html_link(description, link_text, url)"
   ]
  },
  {
   "cell_type": "code",
   "execution_count": null,
   "metadata": {},
   "outputs": [
    {
     "name": "stdout",
     "output_type": "stream",
     "text": [
      "Plink1.9 is already installed in /home/jupyter/tools/\n"
     ]
    }
   ],
   "source": [
    "%%bash\n",
    "\n",
    "# Install Plink 1.9\n",
    "\n",
    "# Create directory tools, check if exists\n",
    "mkdir -p ~/tools\n",
    "cd ~/tools\n",
    "\n",
    "# Check if Plink 1.9 is already installed, install if not\n",
    "if test -e /home/jupyter/tools/plink; then\n",
    "    echo \"Plink1.9 is already installed in /home/jupyter/tools/\"\n",
    "\n",
    "else\n",
    "    echo -e \"Downloading plink \\n    -------\"\n",
    "    # Download plink1.9 from website\n",
    "    wget -N http://s3.amazonaws.com/plink1-assets/plink_linux_x86_64_20190304.zip \n",
    "    unzip -o plink_linux_x86_64_20190304.zip\n",
    "    \n",
    "    echo -e \"\\n plink downloaded and unzipped in /home/jupyter/tools \\n \"\n",
    "fi"
   ]
  },
  {
   "cell_type": "code",
   "execution_count": null,
   "metadata": {},
   "outputs": [
    {
     "name": "stdout",
     "output_type": "stream",
     "text": [
      "Plink2 is already installed in /home/jupyter/\n"
     ]
    }
   ],
   "source": [
    "%%bash\n",
    "\n",
    "# Install Plink 2.0\n",
    "cd /home/jupyter/tools/\n",
    "\n",
    "# Check if Plink 2.0 is already installed, install if not\n",
    "if test -e /home/jupyter/tools/plink2; then\n",
    "    echo \"Plink2 is already installed in /home/jupyter/\"\n",
    "\n",
    "else\n",
    "    echo \"Plink2 is not installed\"\n",
    "    cd /home/jupyter/tools/\n",
    "    # Download plink2.0 from website\n",
    "    wget http://s3.amazonaws.com/plink2-assets/plink2_linux_x86_64_latest.zip\n",
    "    unzip -o plink2_linux_x86_64_latest.zip\n",
    "\n",
    "fi"
   ]
  },
  {
   "cell_type": "code",
   "execution_count": null,
   "metadata": {},
   "outputs": [
    {
     "name": "stdout",
     "output_type": "stream",
     "text": [
      "LICENSE\n",
      "plink\n",
      "plink2\n",
      "plink2_linux_x86_64_latest.zip\n",
      "plink_linux_x86_64_20190304.zip\n",
      "prettify\n",
      "toy.map\n",
      "toy.ped\n",
      "vcf_subset\n"
     ]
    }
   ],
   "source": [
    "%%bash\n",
    "\n",
    "ls /home/jupyter/tools/\n",
    "\n",
    "# Update permissions to make plink executable\n",
    "chmod u+x /home/jupyter/tools/plink\n",
    "chmod u+x /home/jupyter/tools/plink2"
   ]
  },
  {
   "cell_type": "code",
   "execution_count": null,
   "metadata": {},
   "outputs": [
    {
     "name": "stdout",
     "output_type": "stream",
     "text": [
      "Requirement already satisfied: rpy2 in /home/jupyter/.local/lib/python3.10/site-packages (3.5.17)\n",
      "Requirement already satisfied: cffi>=1.15.1 in /opt/conda/lib/python3.10/site-packages (from rpy2) (1.15.1)\n",
      "Requirement already satisfied: jinja2 in /opt/conda/lib/python3.10/site-packages (from rpy2) (3.1.2)\n",
      "Requirement already satisfied: tzlocal in /home/jupyter/.local/lib/python3.10/site-packages (from rpy2) (5.3.1)\n",
      "Requirement already satisfied: pycparser in /opt/conda/lib/python3.10/site-packages (from cffi>=1.15.1->rpy2) (2.21)\n",
      "Requirement already satisfied: MarkupSafe>=2.0 in /opt/conda/lib/python3.10/site-packages (from jinja2->rpy2) (2.1.2)\n",
      "\n",
      "\u001b[1m[\u001b[0m\u001b[34;49mnotice\u001b[0m\u001b[1;39;49m]\u001b[0m\u001b[39;49m A new release of pip is available: \u001b[0m\u001b[31;49m24.3.1\u001b[0m\u001b[39;49m -> \u001b[0m\u001b[32;49m25.0.1\u001b[0m\n",
      "\u001b[1m[\u001b[0m\u001b[34;49mnotice\u001b[0m\u001b[1;39;49m]\u001b[0m\u001b[39;49m To update, run: \u001b[0m\u001b[32;49mpip install --upgrade pip\u001b[0m\n"
     ]
    }
   ],
   "source": [
    "# Install rpy2 to run R in Python environment\n",
    "\n",
    "! pip install rpy2"
   ]
  },
  {
   "cell_type": "code",
   "execution_count": 36,
   "metadata": {},
   "outputs": [
    {
     "name": "stdout",
     "output_type": "stream",
     "text": [
      "The rpy2.ipython extension is already loaded. To reload it, use:\n",
      "  %reload_ext rpy2.ipython\n"
     ]
    }
   ],
   "source": [
    "%load_ext rpy2.ipython"
   ]
  },
  {
   "cell_type": "code",
   "execution_count": null,
   "metadata": {},
   "outputs": [
    {
     "name": "stdout",
     "output_type": "stream",
     "text": [
      "[1] \"/home/jupyter/LRRK2_AJ\"\n"
     ]
    }
   ],
   "source": [
    "%%R\n",
    "# Print working directory\n",
    "getwd()"
   ]
  },
  {
   "cell_type": "markdown",
   "metadata": {},
   "source": [
    "## 2. GP2 population: AJ <a id=\"gp2-population-aj\"></a>"
   ]
  },
  {
   "cell_type": "code",
   "execution_count": null,
   "metadata": {},
   "outputs": [],
   "source": [
    "# Set ancestry variable\n",
    "ANCESTRY = \"AJ\"\n",
    "\n",
    "# Pass variable to environment to use in bash\n",
    "os.environ[\"ANCESTRY\"] = ANCESTRY"
   ]
  },
  {
   "cell_type": "code",
   "execution_count": null,
   "metadata": {},
   "outputs": [
    {
     "name": "stdout",
     "output_type": "stream",
     "text": [
      "Making a working directory\n"
     ]
    },
    {
     "name": "stderr",
     "output_type": "stream",
     "text": [
      "Executing: mkdir -p /home/jupyter/LRRK2_AJ/\n"
     ]
    }
   ],
   "source": [
    "# Create a folder on your workspace\n",
    "print(\"Making a working directory\")\n",
    "WORK_DIR = f'/home/jupyter/LRRK2_{ANCESTRY}/'\n",
    "shell_do(f'mkdir -p {WORK_DIR}') # f' stands for f-string which contains expressions inside brackets"
   ]
  },
  {
   "cell_type": "markdown",
   "metadata": {},
   "source": [
    "### Extract *LRRK2* chr12:40340400-40340400 as G2019S variant (GRCh38 Build)"
   ]
  },
  {
   "cell_type": "code",
   "execution_count": null,
   "metadata": {},
   "outputs": [
    {
     "name": "stdout",
     "output_type": "stream",
     "text": [
      "PLINK v2.0.0-a.6.9LM 64-bit Intel (29 Jan 2025)    cog-genomics.org/plink/2.0/\n",
      "(C) 2005-2025 Shaun Purcell, Christopher Chang   GNU General Public License v3\n",
      "Logging to LRRK2_AJ_G2019S.log.\n",
      "Options in effect:\n",
      "  --chr 12\n",
      "  --from-bp 40340400\n",
      "  --make-bed\n",
      "  --out LRRK2_AJ_G2019S\n",
      "  --pfile chr12_AJ_release7\n",
      "  --to-bp 40340400\n",
      "\n",
      "Start time: Thu Mar 20 08:49:26 2025\n",
      "14993 MiB RAM detected, ~13361 available; reserving 7496 MiB for main\n",
      "workspace.\n",
      "Using up to 4 compute threads.\n",
      "2577 samples (987 females, 1590 males; 2577 founders) loaded from\n",
      "chr12_AJ_release7.psam.\n",
      "1104353 variants loaded from chr12_AJ_release7.pvar.\n",
      "1 binary phenotype loaded (1246 cases, 393 controls).\n",
      "1 variant remaining after main filters.\n",
      "Writing LRRK2_AJ_G2019S.fam ... done.\n",
      "Writing LRRK2_AJ_G2019S.bim ... done.\n",
      "Writing LRRK2_AJ_G2019S.bed ... done.\n",
      "End time: Thu Mar 20 08:49:26 2025\n",
      "PLINK v1.90b6.9 64-bit (4 Mar 2019)            www.cog-genomics.org/plink/1.9/\n",
      "(C) 2005-2019 Shaun Purcell, Christopher Chang   GNU General Public License v3\n",
      "Logging to LRRK2_AJ_G2019S_info.log.\n",
      "Options in effect:\n",
      "  --bfile LRRK2_AJ_G2019S\n",
      "  --out LRRK2_AJ_G2019S_info\n",
      "  --recode\n",
      "\n",
      "14993 MB RAM detected; reserving 7496 MB for main workspace.\n",
      "1 variant loaded from .bim file.\n",
      "2577 people (1590 males, 987 females) loaded from .fam.\n",
      "1639 phenotype values loaded from .fam.\n",
      "Using 1 thread (no multithreaded calculations invoked).\n",
      "Before main variant filters, 2577 founders and 0 nonfounders present.\n",
      "Calculating allele frequencies... 10111213141516171819202122232425262728293031323334353637383940414243444546474849505152535455565758596061626364656667686970717273747576777879808182838485868788899091929394959697989 done.\n",
      "Total genotyping rate is 0.998448.\n",
      "1 variant and 2577 people pass filters and QC.\n",
      "Among remaining phenotypes, 1246 are cases and 393 are controls.  (938\n",
      "phenotypes are missing.)\n",
      "--recode ped to LRRK2_AJ_G2019S_info.ped + LRRK2_AJ_G2019S_info.map ... 101112131415161718192021222324252627282930313233343536373839404142434445464748495051525354555657585960616263646566676869707172737475767778798081828384858687888990919293949596979899done.\n"
     ]
    }
   ],
   "source": [
    "! cd /home/jupyter/LRRK2_{ANCESTRY}/\n",
    "\n",
    "# Extract LRRK2 G2019S variant as binary plink format (.bed, .bim, .fam)\n",
    "! /home/jupyter/tools/plink2 \\\n",
    "--pfile chr12_{ANCESTRY}_release7 \\\n",
    "--chr 12 \\\n",
    "--from-bp 40340400  \\\n",
    "--to-bp 40340400 \\\n",
    "--make-bed \\\n",
    "--out LRRK2_{ANCESTRY}_G2019S\n",
    "\n",
    "# Export as .ped and .map\n",
    "! /home/jupyter/tools/plink \\\n",
    "--bfile LRRK2_{ANCESTRY}_G2019S \\\n",
    "--out LRRK2_{ANCESTRY}_G2019S_info \\\n",
    "--recode"
   ]
  },
  {
   "cell_type": "code",
   "execution_count": null,
   "metadata": {},
   "outputs": [],
   "source": [
    "%%R -i ANCESTRY\n",
    "\n",
    "# Change working directory\n",
    "setwd(paste0('/home/jupyter/LRRK2_', ANCESTRY, '/'))\n",
    "\n",
    "# Read the .ped file\n",
    "data_g2019s <- read.table(paste0(\"LRRK2_\", ANCESTRY, \"_G2019S_info.ped\", strip.white = TRUE))\n",
    "\n",
    "# Read the CSV file\n",
    "data_meta <- read.csv(\"master_key_release7_final.csv\", header=TRUE, na.strings = c(\"\", \"NA\"))\n",
    "\n",
    "# Merge the data\n",
    "data_g2019s_merge_clin <- merge(x = data_g2019s, y = data_meta, by.x = c('V2'), by.y =c(\"GP2sampleID\"))\n",
    "\n",
    "# Write the merged table to a file\n",
    "write.table(paste0(data_g2019s_merge_clin, \"data_g2019s_merge_clin_\", ANCESTRY, \"_r7.txt\", row.names = FALSE, sep = \"\\t\"))"
   ]
  },
  {
   "cell_type": "markdown",
   "metadata": {},
   "source": [
    "## Saving"
   ]
  },
  {
   "cell_type": "markdown",
   "metadata": {},
   "source": [
    "Save the final files to your workspace bucket, since we are conducting this analysis on Terra."
   ]
  }
 ],
 "metadata": {
  "kernelspec": {
   "display_name": "Python 3",
   "language": "python",
   "name": "python3"
  },
  "language_info": {
   "codemirror_mode": {
    "name": "ipython",
    "version": 3
   },
   "file_extension": ".py",
   "mimetype": "text/x-python",
   "name": "python",
   "nbconvert_exporter": "python",
   "pygments_lexer": "ipython3",
   "version": "3.10.12"
  },
  "toc": {
   "base_numbering": 1,
   "nav_menu": {},
   "number_sections": true,
   "sideBar": true,
   "skip_h1_title": false,
   "title_cell": "Table of Contents",
   "title_sidebar": "Contents",
   "toc_cell": false,
   "toc_position": {
    "height": "calc(100% - 180px)",
    "left": "10px",
    "top": "150px",
    "width": "165px"
   },
   "toc_section_display": true,
   "toc_window_display": true
  }
 },
 "nbformat": 4,
 "nbformat_minor": 2
}
